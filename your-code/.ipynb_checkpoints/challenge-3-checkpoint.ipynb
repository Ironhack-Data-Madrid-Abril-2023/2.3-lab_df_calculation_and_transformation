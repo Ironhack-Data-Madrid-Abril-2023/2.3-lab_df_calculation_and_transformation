{
 "cells": [
  {
   "cell_type": "markdown",
   "metadata": {},
   "source": [
    "# Challenge 3\n",
    "\n",
    "In this challenge we will work on the `Orders` data set. In your work you will apply the thinking process and workflow we showed you in Challenge 2.\n",
    "\n",
    "You are serving as a Business Intelligence Analyst at the headquarter of an international fashion goods chain store. Your boss today asked you to do two things for her:\n",
    "\n",
    "**First, identify two groups of customers from the data set.** The first group is **VIP Customers** whose **aggregated expenses** at your global chain stores are **above the 95th percentile** (aka. 0.95 quantile). The second group is **Preferred Customers** whose **aggregated expenses** are **between the 75th and 95th percentile**.\n",
    "\n",
    "**Second, identify which country has the most of your VIP customers, and which country has the most of your VIP+Preferred Customers combined.**"
   ]
  },
  {
   "cell_type": "markdown",
   "metadata": {},
   "source": [
    "## Q1: How to identify VIP & Preferred Customers?\n",
    "\n",
    "We start by importing all the required libraries:"
   ]
  },
  {
   "cell_type": "code",
   "execution_count": 1,
   "metadata": {},
   "outputs": [],
   "source": [
    "import numpy as np\n",
    "import pandas as pd\n",
    "import matplotlib.pyplot as plt\n",
    "import seaborn as sns"
   ]
  },
  {
   "cell_type": "markdown",
   "metadata": {},
   "source": [
    "Next, import `Orders` from Ironhack's database into a dataframe variable called `orders`. Print the head of `orders` to overview the data:"
   ]
  },
  {
   "cell_type": "code",
   "execution_count": 3,
   "metadata": {},
   "outputs": [
    {
     "data": {
      "text/html": [
       "<div>\n",
       "<style scoped>\n",
       "    .dataframe tbody tr th:only-of-type {\n",
       "        vertical-align: middle;\n",
       "    }\n",
       "\n",
       "    .dataframe tbody tr th {\n",
       "        vertical-align: top;\n",
       "    }\n",
       "\n",
       "    .dataframe thead th {\n",
       "        text-align: right;\n",
       "    }\n",
       "</style>\n",
       "<table border=\"1\" class=\"dataframe\">\n",
       "  <thead>\n",
       "    <tr style=\"text-align: right;\">\n",
       "      <th></th>\n",
       "      <th>Unnamed: 0</th>\n",
       "      <th>InvoiceNo</th>\n",
       "      <th>StockCode</th>\n",
       "      <th>year</th>\n",
       "      <th>month</th>\n",
       "      <th>day</th>\n",
       "      <th>hour</th>\n",
       "      <th>Description</th>\n",
       "      <th>Quantity</th>\n",
       "      <th>InvoiceDate</th>\n",
       "      <th>UnitPrice</th>\n",
       "      <th>CustomerID</th>\n",
       "      <th>Country</th>\n",
       "      <th>amount_spent</th>\n",
       "    </tr>\n",
       "  </thead>\n",
       "  <tbody>\n",
       "    <tr>\n",
       "      <th>0</th>\n",
       "      <td>0</td>\n",
       "      <td>536365</td>\n",
       "      <td>85123A</td>\n",
       "      <td>2010</td>\n",
       "      <td>12</td>\n",
       "      <td>3</td>\n",
       "      <td>8</td>\n",
       "      <td>white hanging heart t-light holder</td>\n",
       "      <td>6</td>\n",
       "      <td>2010-12-01 08:26:00</td>\n",
       "      <td>2.55</td>\n",
       "      <td>17850</td>\n",
       "      <td>United Kingdom</td>\n",
       "      <td>15.30</td>\n",
       "    </tr>\n",
       "    <tr>\n",
       "      <th>1</th>\n",
       "      <td>1</td>\n",
       "      <td>536365</td>\n",
       "      <td>71053</td>\n",
       "      <td>2010</td>\n",
       "      <td>12</td>\n",
       "      <td>3</td>\n",
       "      <td>8</td>\n",
       "      <td>white metal lantern</td>\n",
       "      <td>6</td>\n",
       "      <td>2010-12-01 08:26:00</td>\n",
       "      <td>3.39</td>\n",
       "      <td>17850</td>\n",
       "      <td>United Kingdom</td>\n",
       "      <td>20.34</td>\n",
       "    </tr>\n",
       "    <tr>\n",
       "      <th>2</th>\n",
       "      <td>2</td>\n",
       "      <td>536365</td>\n",
       "      <td>84406B</td>\n",
       "      <td>2010</td>\n",
       "      <td>12</td>\n",
       "      <td>3</td>\n",
       "      <td>8</td>\n",
       "      <td>cream cupid hearts coat hanger</td>\n",
       "      <td>8</td>\n",
       "      <td>2010-12-01 08:26:00</td>\n",
       "      <td>2.75</td>\n",
       "      <td>17850</td>\n",
       "      <td>United Kingdom</td>\n",
       "      <td>22.00</td>\n",
       "    </tr>\n",
       "    <tr>\n",
       "      <th>3</th>\n",
       "      <td>3</td>\n",
       "      <td>536365</td>\n",
       "      <td>84029G</td>\n",
       "      <td>2010</td>\n",
       "      <td>12</td>\n",
       "      <td>3</td>\n",
       "      <td>8</td>\n",
       "      <td>knitted union flag hot water bottle</td>\n",
       "      <td>6</td>\n",
       "      <td>2010-12-01 08:26:00</td>\n",
       "      <td>3.39</td>\n",
       "      <td>17850</td>\n",
       "      <td>United Kingdom</td>\n",
       "      <td>20.34</td>\n",
       "    </tr>\n",
       "    <tr>\n",
       "      <th>4</th>\n",
       "      <td>4</td>\n",
       "      <td>536365</td>\n",
       "      <td>84029E</td>\n",
       "      <td>2010</td>\n",
       "      <td>12</td>\n",
       "      <td>3</td>\n",
       "      <td>8</td>\n",
       "      <td>red woolly hottie white heart.</td>\n",
       "      <td>6</td>\n",
       "      <td>2010-12-01 08:26:00</td>\n",
       "      <td>3.39</td>\n",
       "      <td>17850</td>\n",
       "      <td>United Kingdom</td>\n",
       "      <td>20.34</td>\n",
       "    </tr>\n",
       "  </tbody>\n",
       "</table>\n",
       "</div>"
      ],
      "text/plain": [
       "   Unnamed: 0  InvoiceNo StockCode  year  month  day  hour  \\\n",
       "0           0     536365    85123A  2010     12    3     8   \n",
       "1           1     536365     71053  2010     12    3     8   \n",
       "2           2     536365    84406B  2010     12    3     8   \n",
       "3           3     536365    84029G  2010     12    3     8   \n",
       "4           4     536365    84029E  2010     12    3     8   \n",
       "\n",
       "                           Description  Quantity          InvoiceDate  \\\n",
       "0   white hanging heart t-light holder         6  2010-12-01 08:26:00   \n",
       "1                  white metal lantern         6  2010-12-01 08:26:00   \n",
       "2       cream cupid hearts coat hanger         8  2010-12-01 08:26:00   \n",
       "3  knitted union flag hot water bottle         6  2010-12-01 08:26:00   \n",
       "4       red woolly hottie white heart.         6  2010-12-01 08:26:00   \n",
       "\n",
       "   UnitPrice  CustomerID         Country  amount_spent  \n",
       "0       2.55       17850  United Kingdom         15.30  \n",
       "1       3.39       17850  United Kingdom         20.34  \n",
       "2       2.75       17850  United Kingdom         22.00  \n",
       "3       3.39       17850  United Kingdom         20.34  \n",
       "4       3.39       17850  United Kingdom         20.34  "
      ]
     },
     "execution_count": 3,
     "metadata": {},
     "output_type": "execute_result"
    }
   ],
   "source": [
    "orders = pd.read_csv('./Orders.csv')\n",
    "\n",
    "orders.head()"
   ]
  },
  {
   "cell_type": "markdown",
   "metadata": {},
   "source": [
    "---\n",
    "\n",
    "\"Identify VIP and Preferred Customers\" is the non-technical goal of your boss. You need to translate that goal into technical languages that data analysts use:\n",
    "\n",
    "## How to label customers whose aggregated `amount_spent` is in a given quantile range?\n"
   ]
  },
  {
   "cell_type": "markdown",
   "metadata": {},
   "source": [
    "We break down the main problem into several sub problems:\n",
    "\n",
    "#### Sub Problem 1: How to aggregate the  `amount_spent` for unique customers?\n",
    "\n",
    "#### Sub Problem 2: How to select customers whose aggregated `amount_spent` is in a given quantile range?\n",
    "\n",
    "#### Sub Problem 3: How to label selected customers as \"VIP\" or \"Preferred\"?\n",
    "\n",
    "*Note: If you want to break down the main problem in a different way, please feel free to revise the sub problems above.*\n",
    "\n",
    "Now in the workspace below, tackle each of the sub problems using the iterative problem solving workflow. Insert cells as necessary to write your codes and explain your steps."
   ]
  },
  {
   "cell_type": "code",
   "execution_count": 5,
   "metadata": {},
   "outputs": [
    {
     "name": "stdout",
     "output_type": "stream",
     "text": [
      "            amount_spent\n",
      "CustomerID              \n",
      "12346           77183.60\n",
      "12347            4310.00\n",
      "12348            1797.24\n",
      "12349            1757.55\n",
      "12350             334.40\n",
      "...                  ...\n",
      "18280             180.60\n",
      "18281              80.82\n",
      "18282             178.05\n",
      "18283            2094.88\n",
      "18287            1837.28\n",
      "\n",
      "[4339 rows x 1 columns]\n"
     ]
    }
   ],
   "source": [
    "#primer sub problema\n",
    "\n",
    "#para identificar a los clientes únicos dentro de mi dataframe llamado orders \n",
    "# y agregar el monto gastado de cada uno de ellos hago esto: \n",
    "\n",
    "# creo una tabla dinámica que sume el monto gastado por cada cliente utilizando pivot table\n",
    "tabla_dinamica_total_gastado = pd.pivot_table(orders, values='amount_spent', index='CustomerID', aggfunc='sum')\n",
    "\n",
    "# Imprimir el total gastado por cada cliente\n",
    "print(tabla_dinamica_total_gastado)\n"
   ]
  },
  {
   "cell_type": "code",
   "execution_count": 6,
   "metadata": {},
   "outputs": [
    {
     "name": "stdout",
     "output_type": "stream",
     "text": [
      "CustomerID\n",
      "13307    15.00\n",
      "14792     6.20\n",
      "15823    15.00\n",
      "16093    17.00\n",
      "16454     6.90\n",
      "16878    13.30\n",
      "17763    15.00\n",
      "17956    12.75\n",
      "Name: amount_spent, dtype: float64\n"
     ]
    }
   ],
   "source": [
    "# segundo sub problema\n",
    "\n",
    "# Calcular los percentiles del monto gastado\n",
    "percentiles = orders['amount_spent'].quantile([0.25, 0.75])\n",
    "\n",
    "# Seleccionar los clientes cuyo monto total gastado está dentro del rango de percentil dado\n",
    "selected_customers = orders.groupby('CustomerID')['amount_spent'].sum().loc[\n",
    "    lambda x: (x >= percentiles[0.25]) & (x <= percentiles[0.75])\n",
    "]\n",
    "\n",
    "# Imprimir los clientes seleccionados y su monto total gastado\n",
    "print(selected_customers)"
   ]
  },
  {
   "cell_type": "code",
   "execution_count": 8,
   "metadata": {},
   "outputs": [
    {
     "name": "stdout",
     "output_type": "stream",
     "text": [
      "   Unnamed: 0  InvoiceNo StockCode  year  month  day  hour  \\\n",
      "0           0     536365    85123A  2010     12    3     8   \n",
      "1           1     536365     71053  2010     12    3     8   \n",
      "2           2     536365    84406B  2010     12    3     8   \n",
      "3           3     536365    84029G  2010     12    3     8   \n",
      "4           4     536365    84029E  2010     12    3     8   \n",
      "5           5     536365     22752  2010     12    3     8   \n",
      "6           6     536365     21730  2010     12    3     8   \n",
      "7           7     536366     22633  2010     12    3     8   \n",
      "8           8     536366     22632  2010     12    3     8   \n",
      "9           9     536367     84879  2010     12    3     8   \n",
      "\n",
      "                           Description  Quantity          InvoiceDate  \\\n",
      "0   white hanging heart t-light holder         6  2010-12-01 08:26:00   \n",
      "1                  white metal lantern         6  2010-12-01 08:26:00   \n",
      "2       cream cupid hearts coat hanger         8  2010-12-01 08:26:00   \n",
      "3  knitted union flag hot water bottle         6  2010-12-01 08:26:00   \n",
      "4       red woolly hottie white heart.         6  2010-12-01 08:26:00   \n",
      "5         set 7 babushka nesting boxes         2  2010-12-01 08:26:00   \n",
      "6    glass star frosted t-light holder         6  2010-12-01 08:26:00   \n",
      "7               hand warmer union jack         6  2010-12-01 08:28:00   \n",
      "8            hand warmer red polka dot         6  2010-12-01 08:28:00   \n",
      "9        assorted colour bird ornament        32  2010-12-01 08:34:00   \n",
      "\n",
      "   UnitPrice  CustomerID         Country  amount_spent customer_type  \n",
      "0       2.55       17850  United Kingdom         15.30     Preferred  \n",
      "1       3.39       17850  United Kingdom         20.34     Preferred  \n",
      "2       2.75       17850  United Kingdom         22.00     Preferred  \n",
      "3       3.39       17850  United Kingdom         20.34     Preferred  \n",
      "4       3.39       17850  United Kingdom         20.34     Preferred  \n",
      "5       7.65       17850  United Kingdom         15.30     Preferred  \n",
      "6       4.25       17850  United Kingdom         25.50     Preferred  \n",
      "7       1.85       17850  United Kingdom         11.10     Preferred  \n",
      "8       1.85       17850  United Kingdom         11.10     Preferred  \n",
      "9       1.69       13047  United Kingdom         54.08     Preferred  \n"
     ]
    }
   ],
   "source": [
    "# tercer subproblema\n",
    "\n",
    "# EtiquetO a los clientes seleccionados como \"VIP\" o \"Preferred\"\n",
    "orders['customer_type'] = orders['CustomerID'].apply(\n",
    "    lambda x: \"VIP\" if x in selected_customers.index else \"Preferred\"\n",
    ")\n",
    "\n",
    "# ImprimO los primeros 10 registros del dataframe con la columna de tipo de cliente\n",
    "print(orders.head(10))\n"
   ]
  },
  {
   "cell_type": "code",
   "execution_count": null,
   "metadata": {},
   "outputs": [],
   "source": []
  },
  {
   "cell_type": "markdown",
   "metadata": {},
   "source": [
    "Now we'll leave it to you to solve Q2 & Q3, which you can leverage from your solution for Q1:\n",
    "\n",
    "## Q2: How to identify which country has the most VIP Customers?"
   ]
  },
  {
   "cell_type": "code",
   "execution_count": 12,
   "metadata": {},
   "outputs": [
    {
     "data": {
      "text/plain": [
       "'United Kingdom'"
      ]
     },
     "execution_count": 12,
     "metadata": {},
     "output_type": "execute_result"
    }
   ],
   "source": [
    "vip_customers = orders[orders['customer_type'] == 'VIP']\n",
    "\n",
    "vip_customers_by_country = vip_customers.groupby('Country')['CustomerID'].nunique()\n",
    "\n",
    "country_with_most_vip_customers = vip_customers_by_country.idxmax()\n",
    "\n",
    "country_with_most_vip_customers"
   ]
  },
  {
   "cell_type": "code",
   "execution_count": null,
   "metadata": {},
   "outputs": [],
   "source": []
  },
  {
   "cell_type": "markdown",
   "metadata": {},
   "source": [
    "## Q3: How to identify which country has the most VIP+Preferred Customers combined?"
   ]
  },
  {
   "cell_type": "code",
   "execution_count": 14,
   "metadata": {},
   "outputs": [
    {
     "data": {
      "text/plain": [
       "'United Kingdom'"
      ]
     },
     "execution_count": 14,
     "metadata": {},
     "output_type": "execute_result"
    }
   ],
   "source": [
    "vip_pref_customers = orders[orders['customer_type'].isin(['VIP', 'Preferred'])]\n",
    "\n",
    "vip_pref_customers_by_country = vip_pref_customers.groupby('Country')['CustomerID'].nunique()\n",
    "\n",
    "country_with_most_vip_pref_customers = vip_pref_customers_by_country.idxmax()\n",
    "\n",
    "country_with_most_vip_pref_customers"
   ]
  }
 ],
 "metadata": {
  "kernelspec": {
   "display_name": "Python 3 (ipykernel)",
   "language": "python",
   "name": "python3"
  },
  "language_info": {
   "codemirror_mode": {
    "name": "ipython",
    "version": 3
   },
   "file_extension": ".py",
   "mimetype": "text/x-python",
   "name": "python",
   "nbconvert_exporter": "python",
   "pygments_lexer": "ipython3",
   "version": "3.9.13"
  }
 },
 "nbformat": 4,
 "nbformat_minor": 2
}
